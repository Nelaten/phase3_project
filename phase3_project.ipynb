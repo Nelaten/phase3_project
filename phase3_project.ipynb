{
 "cells": [
  {
   "cell_type": "markdown",
   "id": "168b637d",
   "metadata": {},
   "source": [
    "# Data driven customer churn prediction for SyriaTel company"
   ]
  },
  {
   "cell_type": "markdown",
   "id": "1d0bc418",
   "metadata": {},
   "source": [
    "## * Business understanding"
   ]
  },
  {
   "cell_type": "markdown",
   "id": "666f5127",
   "metadata": {},
   "source": [
    "## Overview\n",
    "\n",
    "In the telecommunications industry, customer churn refers to the loss of subscribers who stop using a company's service during a specific period. Customer churn is also refered to as customer attrition or subscriber churn. There are two forms of customer churn; voluntary churn and involuntary churn. Voluntary churn involves consumers leaving on their own due to various factors e.g. poor customer service, better options elsewhere etc. On the other hand involuntary churn involves the service provider deliberately disconnecting some subscribers due to one reason or the other. High churn rates typically have adverse effects on telecomm companies, both to their reputation and to their balance sheet. It is therefore my initiative to attempt to use the historical data available and machine learning algorithms so as to be able to predict which subscribers will leave and also the churn rate, within that specified period under review. The insights gain from this will enable us to effective advice management, and help develop a strategic response and a prevetative measure.\n",
    "\n",
    "\n",
    "## Business problem\n",
    "\n",
    "High churn rates are one of the major risks that telecomm companies face all over the world. There are multiple causes of customer churn, and SyriaTel company just like any other company in other industries is affected by the 5 forces that can affect a companies profitability. These are what we call the 'Porters 5 forces' and include:\n",
    "1. Competitive rivalry\n",
    "2. Threat of substitutes\n",
    "3. Threat of new market entrants\n",
    "4. Buyer power\n",
    "5. Supplier power\n",
    "\n",
    "Basically, these forces coming from different directions and from different sources but eventually if the company does not take decisive and strategic measures to neutralize them, each one has the same final adverse result, which include reduced profitability, shrinking market share, financial distress among other things. It is therefore imperative, for SyriaTel to develop a strategy to ensure that it reduces the risk of suffering from customer churn, and indeed the most effective solution has to be data-driven. Studies have shown that indeed it costs more to acquire a new customer compared to what it costs just to retain the one's in a company's customer base. Due to such factors and the related risks, it is important to apply Machine learning so as to proactively determine the customers who are at risk, and in turn take the necessary measure to mitigate that risk.\n"
   ]
  },
  {
   "cell_type": "markdown",
   "id": "574be995",
   "metadata": {},
   "source": [
    "## * Data understanding"
   ]
  },
  {
   "cell_type": "code",
   "execution_count": null,
   "id": "78b7a540",
   "metadata": {},
   "outputs": [],
   "source": []
  },
  {
   "cell_type": "markdown",
   "id": "67800939",
   "metadata": {},
   "source": [
    "## * Data preparation"
   ]
  },
  {
   "cell_type": "code",
   "execution_count": null,
   "id": "33242eae",
   "metadata": {},
   "outputs": [],
   "source": []
  },
  {
   "cell_type": "markdown",
   "id": "7f7efb17",
   "metadata": {},
   "source": [
    "## * Modeling and evaluation"
   ]
  },
  {
   "cell_type": "code",
   "execution_count": null,
   "id": "e00b3863",
   "metadata": {},
   "outputs": [],
   "source": []
  },
  {
   "cell_type": "markdown",
   "id": "8e5b704b",
   "metadata": {},
   "source": [
    "## * Conclusion"
   ]
  },
  {
   "cell_type": "code",
   "execution_count": null,
   "id": "7edf2f37",
   "metadata": {},
   "outputs": [],
   "source": []
  }
 ],
 "metadata": {
  "kernelspec": {
   "display_name": "learn-env",
   "language": "python",
   "name": "python3"
  },
  "language_info": {
   "name": "python",
   "version": "3.8.5"
  }
 },
 "nbformat": 4,
 "nbformat_minor": 5
}
